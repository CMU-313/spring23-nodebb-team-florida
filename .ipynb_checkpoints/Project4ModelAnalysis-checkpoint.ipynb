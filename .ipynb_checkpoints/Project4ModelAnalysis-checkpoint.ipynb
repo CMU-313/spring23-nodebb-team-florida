{
 "cells": [
  {
   "cell_type": "markdown",
   "metadata": {
    "id": "QMBbaCsT2P0O"
   },
   "source": [
    "IMPORTING LIBRARIES"
   ]
  },
  {
   "cell_type": "code",
   "execution_count": 1,
   "metadata": {
    "colab": {
     "base_uri": "https://localhost:8080/"
    },
    "id": "phh1sq7HDRFt",
    "outputId": "9e688016-12d7-4828-a0da-bf4da858a4d4"
   },
   "outputs": [
    {
     "name": "stdout",
     "output_type": "stream",
     "text": [
      "Requirement already satisfied: scikit-learn==1.2.1 in /Users/meimeiwang/miniconda3/lib/python3.8/site-packages (1.2.1)\n",
      "Requirement already satisfied: scipy>=1.3.2 in /Users/meimeiwang/miniconda3/lib/python3.8/site-packages (from scikit-learn==1.2.1) (1.7.1)\n",
      "Requirement already satisfied: threadpoolctl>=2.0.0 in /Users/meimeiwang/miniconda3/lib/python3.8/site-packages (from scikit-learn==1.2.1) (3.1.0)\n",
      "Requirement already satisfied: numpy>=1.17.3 in /Users/meimeiwang/miniconda3/lib/python3.8/site-packages (from scikit-learn==1.2.1) (1.20.3)\n",
      "Requirement already satisfied: joblib>=1.1.1 in /Users/meimeiwang/miniconda3/lib/python3.8/site-packages (from scikit-learn==1.2.1) (1.2.0)\n",
      "\u001b[33mWARNING: You are using pip version 21.2.4; however, version 23.0.1 is available.\n",
      "You should consider upgrading via the '/Users/meimeiwang/miniconda3/bin/python -m pip install --upgrade pip' command.\u001b[0m\n"
     ]
    }
   ],
   "source": [
    "!pip install scikit-learn==1.2.1"
   ]
  },
  {
   "cell_type": "code",
   "execution_count": 2,
   "metadata": {
    "colab": {
     "base_uri": "https://localhost:8080/"
    },
    "id": "Bcf2TGssBF75",
    "outputId": "f8b0b867-2f86-440b-8444-224c2f14e7d2"
   },
   "outputs": [
    {
     "ename": "ModuleNotFoundError",
     "evalue": "No module named 'google.colab'",
     "output_type": "error",
     "traceback": [
      "\u001b[0;31m---------------------------------------------------------------------------\u001b[0m",
      "\u001b[0;31mModuleNotFoundError\u001b[0m                       Traceback (most recent call last)",
      "\u001b[0;32m/var/folders/_h/yq1hn_md3b31yw3nc5wzzzmr0000gq/T/ipykernel_6888/1408506528.py\u001b[0m in \u001b[0;36m<module>\u001b[0;34m\u001b[0m\n\u001b[0;32m----> 1\u001b[0;31m \u001b[0;32mfrom\u001b[0m \u001b[0mgoogle\u001b[0m\u001b[0;34m.\u001b[0m\u001b[0mcolab\u001b[0m \u001b[0;32mimport\u001b[0m \u001b[0mdrive\u001b[0m\u001b[0;34m\u001b[0m\u001b[0;34m\u001b[0m\u001b[0m\n\u001b[0m\u001b[1;32m      2\u001b[0m \u001b[0mdrive\u001b[0m\u001b[0;34m.\u001b[0m\u001b[0mmount\u001b[0m\u001b[0;34m(\u001b[0m\u001b[0;34m'/content/drive'\u001b[0m\u001b[0;34m)\u001b[0m\u001b[0;34m\u001b[0m\u001b[0;34m\u001b[0m\u001b[0m\n",
      "\u001b[0;31mModuleNotFoundError\u001b[0m: No module named 'google.colab'"
     ]
    }
   ],
   "source": [
    "from google.colab import drive\n",
    "drive.mount('/content/drive')"
   ]
  },
  {
   "cell_type": "code",
   "execution_count": null,
   "metadata": {
    "id": "tmuyyACQLtKK"
   },
   "outputs": [],
   "source": [
    "!cp drive/MyDrive/17313/predict.py .\n",
    "!cp drive/MyDrive/17313/model.pkl .\n",
    "!cp drive/MyDrive/17313/requirements.txt ."
   ]
  },
  {
   "cell_type": "code",
   "execution_count": null,
   "metadata": {
    "id": "8286jexMozfw"
   },
   "outputs": [],
   "source": [
    "import numpy as np\n",
    "import pandas as pd\n",
    "import matplotlib.pyplot as plt\n",
    "import predict as pred\n",
    "\n",
    "from sklearn import metrics\n"
   ]
  },
  {
   "cell_type": "markdown",
   "metadata": {
    "id": "9FvxVx7Y2fix"
   },
   "source": [
    "INSTALLING DEPENDENCIES (IF NOT DONE YET)"
   ]
  },
  {
   "cell_type": "code",
   "execution_count": null,
   "metadata": {
    "colab": {
     "base_uri": "https://localhost:8080/"
    },
    "id": "_qaycJfs2ewz",
    "outputId": "357bcea2-37c4-4d7e-adcf-e5e9f3a4ec1b"
   },
   "outputs": [],
   "source": [
    "pip install -r requirements.txt"
   ]
  },
  {
   "cell_type": "markdown",
   "metadata": {
    "id": "MGcKNrbz2KbD"
   },
   "source": [
    "LOADING DATASET"
   ]
  },
  {
   "cell_type": "code",
   "execution_count": null,
   "metadata": {
    "colab": {
     "base_uri": "https://localhost:8080/"
    },
    "id": "6PqDa-Pcr8Hr",
    "outputId": "39401eee-aa36-47b9-ffa1-edf2a311693b"
   },
   "outputs": [],
   "source": [
    "df = pd.read_csv('drive/MyDrive/17313/student_data.csv')\n",
    "print(df.head())"
   ]
  },
  {
   "cell_type": "markdown",
   "metadata": {
    "id": "E-rIkpousSxK"
   },
   "source": [
    "PLOTTING DISTRIBUTION OF FEATURES IN TEST DATASET"
   ]
  },
  {
   "cell_type": "code",
   "execution_count": null,
   "metadata": {
    "colab": {
     "base_uri": "https://localhost:8080/",
     "height": 472
    },
    "id": "2Wh8gtG2sH6E",
    "outputId": "64bb2e68-51bb-4e69-94d8-aa32349b33d6"
   },
   "outputs": [],
   "source": [
    "#Gender\n",
    "gender_counts = df['Gender'].value_counts()\n",
    "plt.bar(gender_counts.index, gender_counts.values)\n",
    "\n",
    "plt.title('Count by Gender')\n",
    "plt.xlabel('Gender')\n",
    "plt.ylabel('Count')\n",
    "\n",
    "plt.show()"
   ]
  },
  {
   "cell_type": "code",
   "execution_count": null,
   "metadata": {
    "colab": {
     "base_uri": "https://localhost:8080/",
     "height": 472
    },
    "id": "nhdF8kPduFe-",
    "outputId": "7402bb37-6354-4fd8-f5b7-8a486adde5ae"
   },
   "outputs": [],
   "source": [
    "#Age\n",
    "plt.title('Count by Age')\n",
    "plt.xlabel('Age')\n",
    "plt.ylabel('Count')\n",
    "\n",
    "plt.hist(df[\"Age\"])\n",
    "plt.show()"
   ]
  },
  {
   "cell_type": "code",
   "execution_count": null,
   "metadata": {
    "colab": {
     "base_uri": "https://localhost:8080/",
     "height": 433
    },
    "id": "phAizAcZvf1-",
    "outputId": "a73972f5-c240-4800-f173-697465a89359"
   },
   "outputs": [],
   "source": [
    "#Majors\n",
    "major_counts = df[\"Major\"].value_counts()\n",
    "\n",
    "plt.pie(major_counts, labels=major_counts.index, autopct='%1.1f%%')\n",
    "plt.title('Majors Distribution')\n",
    "plt.axis('equal')\n",
    "plt.show()"
   ]
  },
  {
   "cell_type": "code",
   "execution_count": null,
   "metadata": {
    "colab": {
     "base_uri": "https://localhost:8080/",
     "height": 472
    },
    "id": "RIUeulifwyHn",
    "outputId": "9cd44ae8-f8af-482d-80eb-c9237706090b"
   },
   "outputs": [],
   "source": [
    "#GPA\n",
    "plt.title('Count by GPA')\n",
    "plt.xlabel('GPA')\n",
    "plt.ylabel('Count')\n",
    "\n",
    "plt.hist(df[\"GPA\"])\n",
    "plt.show()"
   ]
  },
  {
   "cell_type": "code",
   "execution_count": null,
   "metadata": {
    "colab": {
     "base_uri": "https://localhost:8080/",
     "height": 435
    },
    "id": "XNmdehkD1qVM",
    "outputId": "9bce6fd9-3ac6-4b92-be78-65add762aa12"
   },
   "outputs": [],
   "source": [
    "#Extra Curricular\n",
    "ec_counts = df[\"Extra Curricular\"].value_counts()\n",
    "\n",
    "plt.pie(ec_counts, labels=ec_counts.index, autopct='%1.1f%%')\n",
    "plt.title('Extra Curricular Distribution')\n",
    "plt.axis('equal')\n",
    "plt.show()"
   ]
  },
  {
   "cell_type": "code",
   "execution_count": null,
   "metadata": {
    "colab": {
     "base_uri": "https://localhost:8080/",
     "height": 472
    },
    "id": "ZiIoyESizA5t",
    "outputId": "7073075a-db56-4ea9-e42a-3cafe0df0c1d"
   },
   "outputs": [],
   "source": [
    "#Num Programming Languages\n",
    "\n",
    "num_lan_counts = df[\"Num Programming Languages\"].value_counts()\n",
    "plt.bar(num_lan_counts.index, num_lan_counts.values)\n",
    "\n",
    "plt.title('Count by Num Programming Languages')\n",
    "plt.xlabel('Num Programming Languages')\n",
    "plt.ylabel('Count')\n",
    "\n",
    "plt.show()"
   ]
  },
  {
   "cell_type": "code",
   "execution_count": null,
   "metadata": {
    "colab": {
     "base_uri": "https://localhost:8080/",
     "height": 472
    },
    "id": "W3LN9NFEzH3h",
    "outputId": "d70f2ff3-2a88-4fd8-80d9-6c9b0273bc2a"
   },
   "outputs": [],
   "source": [
    "#Num Past Internships\n",
    "#order = [0, 1, 2, 3, 4]\n",
    "\n",
    "num_past_int = df[\"Num Past Internships\"].value_counts()\n",
    "plt.bar(num_past_int.index, num_past_int.values)\n",
    "\n",
    "plt.title('Count by Num Past Internships')\n",
    "plt.xlabel('Num Past Internships')\n",
    "plt.ylabel('Count')\n",
    "\n",
    "plt.show()"
   ]
  },
  {
   "cell_type": "code",
   "execution_count": null,
   "metadata": {
    "colab": {
     "base_uri": "https://localhost:8080/",
     "height": 472
    },
    "id": "3_vX1jUyzgK_",
    "outputId": "e6d8c1a4-2474-4c68-ecd3-763ce2896879"
   },
   "outputs": [],
   "source": [
    "#Good Candidate\n",
    "\n",
    "good_can = df[\"Good Candidate\"].value_counts()\n",
    "plt.bar(good_can.index, good_can.values)\n",
    "\n",
    "plt.title('Count by Good Candidate')\n",
    "plt.xlabel('Good Candidate')\n",
    "plt.ylabel('Count')\n",
    "\n",
    "plt.xticks([0, 1])  # Set x-tick marks to only display values of 0 and 1\n",
    "plt.show()"
   ]
  },
  {
   "cell_type": "markdown",
   "metadata": {
    "id": "atcPuCPZ157C"
   },
   "source": [
    "PREDICTING OUTPUT OF TEST DATASET"
   ]
  },
  {
   "cell_type": "code",
   "execution_count": null,
   "metadata": {
    "id": "8xpyqySe33vI"
   },
   "outputs": [],
   "source": [
    "df_X = df.iloc[: , :-1]\n",
    "df_Y = df.iloc[: , -1:]\n",
    "\n",
    "#converting X to a list of dicts\n",
    "dict_list_X = df.to_dict(orient=\"records\")\n"
   ]
  },
  {
   "cell_type": "code",
   "execution_count": null,
   "metadata": {
    "id": "w5ESQx3O5Q1i"
   },
   "outputs": [],
   "source": [
    "#predicting output of test dataset based on model\n",
    "predList = []\n",
    "for student in dict_list_X:\n",
    "  res = pred.predict(student)[\"good_employee\"]\n",
    "  predList.append(res)"
   ]
  },
  {
   "cell_type": "markdown",
   "metadata": {
    "id": "jMAana3R2F6K"
   },
   "source": [
    "RESULT EVALUATION"
   ]
  },
  {
   "cell_type": "code",
   "execution_count": null,
   "metadata": {
    "id": "TKOo_Zh_5210"
   },
   "outputs": [],
   "source": [
    "#accuracy\n",
    "#check if this is backwards\n",
    "accuracy = metrics.accuracy_score(df_Y, predList)"
   ]
  },
  {
   "cell_type": "code",
   "execution_count": null,
   "metadata": {
    "colab": {
     "base_uri": "https://localhost:8080/"
    },
    "id": "HGD1DLrpNVl9",
    "outputId": "dabcf653-3752-48c6-ee2a-637eee821561"
   },
   "outputs": [],
   "source": [
    "accuracy"
   ]
  },
  {
   "cell_type": "code",
   "execution_count": null,
   "metadata": {
    "id": "6TzK9oUn6JLR"
   },
   "outputs": [],
   "source": [
    "#confusion matrix"
   ]
  },
  {
   "cell_type": "code",
   "execution_count": null,
   "metadata": {
    "colab": {
     "base_uri": "https://localhost:8080/",
     "height": 453
    },
    "id": "p8CCjczg6llx",
    "outputId": "93a5f179-5c55-408f-aa2a-4ee71c33069b"
   },
   "outputs": [],
   "source": [
    "confusion_matrix = metrics.confusion_matrix(df_Y, predList)\n",
    "\n",
    "cm_display = metrics.ConfusionMatrixDisplay(confusion_matrix = confusion_matrix, display_labels = [False, True])\n",
    "\n",
    "cm_display.plot()\n",
    "plt.show()"
   ]
  }
 ],
 "metadata": {
  "colab": {
   "provenance": []
  },
  "kernelspec": {
   "display_name": "Python 3 (ipykernel)",
   "language": "python",
   "name": "python3"
  },
  "language_info": {
   "codemirror_mode": {
    "name": "ipython",
    "version": 3
   },
   "file_extension": ".py",
   "mimetype": "text/x-python",
   "name": "python",
   "nbconvert_exporter": "python",
   "pygments_lexer": "ipython3",
   "version": "3.8.10"
  }
 },
 "nbformat": 4,
 "nbformat_minor": 1
}
